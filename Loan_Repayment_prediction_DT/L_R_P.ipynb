{
 "cells": [
  {
   "cell_type": "code",
   "execution_count": null,
   "id": "9db2b1f3",
   "metadata": {},
   "outputs": [],
   "source": []
  }
 ],
 "metadata": {
  "language_info": {
   "name": "python"
  }
 },
 "nbformat": 4,
 "nbformat_minor": 5
}
