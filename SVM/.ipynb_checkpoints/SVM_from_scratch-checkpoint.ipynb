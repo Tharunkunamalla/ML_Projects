{
 "cells": [
  {
   "cell_type": "markdown",
   "id": "a148ba19-8100-4165-91ca-f56c2dc8c88f",
   "metadata": {},
   "source": [
    "Equation of the Hyperplane:\n",
    "\n",
    "**y = wx - b**"
   ]
  },
  {
   "cell_type": "markdown",
   "id": "3e63cd71-33c8-48e4-9a76-e25f67784c15",
   "metadata": {},
   "source": [
    "**Gradient Descent:**\n",
    "\n",
    "Gradient Descent is an optimization algorithm used for minimizing the loss function in various machine learning algorithms. It is used for updating the parameters of the learning model.\n",
    "\n",
    "w  =  w - α*dw\n",
    "\n",
    "b  =  b - α*db"
   ]
  },
  {
   "cell_type": "markdown",
   "id": "6e730fe2-6b39-49a5-b79e-5aec3ecfdd59",
   "metadata": {},
   "source": [
    "**Learning Rate:**\n",
    "\n",
    "Learning rate is a tuning parameter in an optimization algorithm that determines the step size at each iteration while moving toward a minimum of a loss function."
   ]
  },
  {
   "cell_type": "code",
   "execution_count": 1,
   "id": "04d375e2-b815-444f-9bbf-59eff5a1fd04",
   "metadata": {},
   "outputs": [],
   "source": [
    "import numpy as np\n",
    "import pandas as pd"
   ]
  },
  {
   "cell_type": "code",
   "execution_count": 4,
   "id": "32df65b0-f3f1-4d6c-ae8e-16d7f166e78d",
   "metadata": {},
   "outputs": [
    {
     "ename": "IndentationError",
     "evalue": "expected an indented block after function definition on line 4 (3258353597.py, line 8)",
     "output_type": "error",
     "traceback": [
      "\u001b[1;36m  Cell \u001b[1;32mIn[4], line 8\u001b[1;36m\u001b[0m\n\u001b[1;33m    def fit(self,):\u001b[0m\n\u001b[1;37m    ^\u001b[0m\n\u001b[1;31mIndentationError\u001b[0m\u001b[1;31m:\u001b[0m expected an indented block after function definition on line 4\n"
     ]
    }
   ],
   "source": [
    "class svm_classifier():\n",
    "\n",
    "    #initiating the hyperparameters\n",
    "    def __init__(self, learning_rate, no_of_iterations, lambda_parameter):\n",
    "        self.learning_rate = learning_rate\n",
    "        self.no_of_iterations = no_of_iterations\n",
    "        self.lambda_parameter = lambda_parameter\n",
    "        \n",
    "\n",
    "    #Fitting the dataset to SVM classifier\n",
    "    def fit(self,X,Y):\n",
    "        #m = Number of datapoints in the dataset--> number of rows\n",
    "        #n = Number of input features --> number of columns excluding the target column\n",
    "        \n",
    "        self.m, self.n = X.shape\n",
    "\n",
    "        #Initiating the weight value and bias value\n",
    "        self.w = np.zeros(self.n) #--> numpy array\n",
    "        self.b = 0  #bias value --> single value\n",
    "        self.x = X\n",
    "        self.y = Y  #output column\n",
    "\n",
    "    for i in range(self.no_of_iterations):\n",
    "        self.update_weights()\n",
    "\n",
    "    \n",
    "    \n",
    "    #Function for updating the weight and value\n",
    "    def update_weight(self):\n",
    "\n",
    "        #label encoding\n",
    "        y_label = np.where(self.Y <= 0, -1, 1)\n",
    "\n",
    "    for index, x_i in enumerate(self.X):\n",
    "        condition = y_label[index] * (np.dot(x_i, self.w) -self.b) >=1\n",
    "\n",
    "        if (condition == True):\n",
    "\n",
    "        dw = 2 * self.lambda_parameter * self.w\n",
    "        db = 0\n",
    "\n",
    "      else:\n",
    "\n",
    "        dw = 2 * self.lambda_parameter * self.w - np.dot(x_i, y_label[index])\n",
    "        db = y_label[index]\n",
    "\n",
    "\n",
    "      self.w = self.w - self.learning_rate * dw\n",
    "\n",
    "      self.b = self.b - self.learning_rate * db\n",
    "    \n",
    " \n",
    "    #Function for predicting the values\n",
    "    def predict(self):\n",
    "         output = np.dot(X, self.w) - self.b\n",
    "    \n",
    "        predicted_labels = np.sign(output)\n",
    "\n",
    "        y_hat = np.where(predicted_labels <= -1, 0, 1)\n",
    "\n",
    "    return y_hat"
   ]
  },
  {
   "cell_type": "code",
   "execution_count": null,
   "id": "38b1470a-4d1e-4ac6-af00-f1d360ceb9b7",
   "metadata": {},
   "outputs": [],
   "source": [
    "model = svm_classifier(learning_rate=0.001, no_of_iterations = 1000, lambda_parameter=0.01)"
   ]
  }
 ],
 "metadata": {
  "kernelspec": {
   "display_name": "Python 3 (ipykernel)",
   "language": "python",
   "name": "python3"
  },
  "language_info": {
   "codemirror_mode": {
    "name": "ipython",
    "version": 3
   },
   "file_extension": ".py",
   "mimetype": "text/x-python",
   "name": "python",
   "nbconvert_exporter": "python",
   "pygments_lexer": "ipython3",
   "version": "3.12.10"
  }
 },
 "nbformat": 4,
 "nbformat_minor": 5
}
