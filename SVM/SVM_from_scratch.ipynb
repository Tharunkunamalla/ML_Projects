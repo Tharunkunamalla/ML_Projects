{
 "cells": [
  {
   "cell_type": "markdown",
   "id": "a148ba19-8100-4165-91ca-f56c2dc8c88f",
   "metadata": {},
   "source": [
    "Equation of the Hyperplane:\n",
    "\n",
    "**y = wx - b**"
   ]
  },
  {
   "cell_type": "markdown",
   "id": "3e63cd71-33c8-48e4-9a76-e25f67784c15",
   "metadata": {},
   "source": [
    "**Gradient Descent:**\n",
    "\n",
    "Gradient Descent is an optimization algorithm used for minimizing the loss function in various machine learning algorithms. It is used for updating the parameters of the learning model.\n",
    "\n",
    "w  =  w - α*dw\n",
    "\n",
    "b  =  b - α*db"
   ]
  },
  {
   "cell_type": "markdown",
   "id": "6e730fe2-6b39-49a5-b79e-5aec3ecfdd59",
   "metadata": {},
   "source": [
    "**Learning Rate:**\n",
    "\n",
    "Learning rate is a tuning parameter in an optimization algorithm that determines the step size at each iteration while moving toward a minimum of a loss function."
   ]
  },
  {
   "cell_type": "code",
   "execution_count": 1,
   "id": "04d375e2-b815-444f-9bbf-59eff5a1fd04",
   "metadata": {},
   "outputs": [],
   "source": [
    "import numpy as np\n",
    "import pandas as pd"
   ]
  },
  {
   "cell_type": "code",
   "execution_count": 30,
   "id": "32df65b0-f3f1-4d6c-ae8e-16d7f166e78d",
   "metadata": {},
   "outputs": [],
   "source": [
    "class SVM_classifier:\n",
    "    # Initialize hyperparameters: learning rate, iterations, and regularization strength (lambda)\n",
    "    def __init__(self, learning_rate=0.001, no_of_iterations=1000, lambda_parameter=0.01):\n",
    "        self.learning_rate = learning_rate\n",
    "        self.no_of_iterations = no_of_iterations\n",
    "        self.lambda_parameter = lambda_parameter\n",
    "\n",
    "    # Fit the model to the input data X and output labels Y\n",
    "    def fit(self, X, Y):\n",
    "        # Get number of samples (m) and number of features (n)\n",
    "        self.m, self.n = X.shape\n",
    "\n",
    "        # Initialize weights and bias to zero\n",
    "        self.w = np.zeros(self.n)\n",
    "        self.b = 0\n",
    "\n",
    "        # Store features and convert labels: 0 becomes -1 for SVM margin math\n",
    "        self.X = X\n",
    "        self.Y = np.where(Y <= 0, -1, 1)\n",
    "\n",
    "        # Run the weight update process for a number of iterations\n",
    "        for i in range(self.no_of_iterations):\n",
    "            self.update_weights()\n",
    "\n",
    "    # Function to update weights and bias using hinge loss and gradient descent\n",
    "    def update_weights(self):\n",
    "        # Loop through all data points\n",
    "        for index, x_i in enumerate(self.X):\n",
    "            # Check SVM margin condition\n",
    "            condition = self.Y[index] * (np.dot(x_i, self.w) - self.b) >= 1\n",
    "\n",
    "            if condition:\n",
    "                # No misclassification: only regularization term\n",
    "                dw = 2 * self.lambda_parameter * self.w\n",
    "                db = 0\n",
    "            else:\n",
    "                # Misclassified: include hinge loss gradient\n",
    "                dw = 2 * self.lambda_parameter * self.w - np.dot(x_i, self.Y[index])\n",
    "                db = self.Y[index]\n",
    "\n",
    "            # Update weights and bias using gradient descent\n",
    "            self.w = self.w - self.learning_rate * dw\n",
    "            self.b = self.b - self.learning_rate * db\n",
    "\n",
    "    # Predict the output labels for given input X\n",
    "    def predict(self, X):\n",
    "        # Compute decision function: w.x - b\n",
    "        output = np.dot(X, self.w) - self.b\n",
    "\n",
    "        # Apply sign function to classify: +1 or -1  -->if we get a -ve number then make it rounded to -1\n",
    "        predicted_labels = np.sign(output) # tells that is that -ve or +ve\n",
    "\n",
    "        # Convert -1 back to 0 to match original label format\n",
    "        y_hat = np.where(predicted_labels <= -1, 0, 1)\n",
    "        return y_hat\n"
   ]
  },
  {
   "cell_type": "code",
   "execution_count": 31,
   "id": "38b1470a-4d1e-4ac6-af00-f1d360ceb9b7",
   "metadata": {},
   "outputs": [],
   "source": [
    "model = SVM_classifier(learning_rate=0.001, no_of_iterations = 1000, lambda_parameter=0.01)"
   ]
  },
  {
   "cell_type": "code",
   "execution_count": 32,
   "id": "c7e453a5-bb25-4da5-936e-66f1eaca3813",
   "metadata": {},
   "outputs": [
    {
     "name": "stdout",
     "output_type": "stream",
     "text": [
      "[0 0 0]\n"
     ]
    }
   ],
   "source": [
    "X = np.array([[1, 2], [2, 3], [3, 4]])\n",
    "Y = np.array([0, 1, 0])\n",
    "\n",
    "svm = SVM_classifier()\n",
    "svm.fit(X, Y)\n",
    "predictions = svm.predict(X)\n",
    "print(predictions)\n"
   ]
  },
  {
   "cell_type": "code",
   "execution_count": null,
   "id": "ca6b01dc-117c-46d6-b485-a3e566415fdb",
   "metadata": {},
   "outputs": [],
   "source": []
  }
 ],
 "metadata": {
  "kernelspec": {
   "display_name": "Python 3 (ipykernel)",
   "language": "python",
   "name": "python3"
  },
  "language_info": {
   "codemirror_mode": {
    "name": "ipython",
    "version": 3
   },
   "file_extension": ".py",
   "mimetype": "text/x-python",
   "name": "python",
   "nbconvert_exporter": "python",
   "pygments_lexer": "ipython3",
   "version": "3.12.10"
  }
 },
 "nbformat": 4,
 "nbformat_minor": 5
}
