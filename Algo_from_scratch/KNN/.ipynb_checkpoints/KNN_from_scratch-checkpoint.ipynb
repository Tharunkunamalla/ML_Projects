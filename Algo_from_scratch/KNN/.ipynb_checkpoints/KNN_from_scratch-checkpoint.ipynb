{
 "cells": [
  {
   "cell_type": "code",
   "execution_count": 1,
   "id": "a0558796-5321-4890-994c-cae0601fb4c3",
   "metadata": {},
   "outputs": [],
   "source": [
    "import numpy as np\n",
    "import statistics"
   ]
  },
  {
   "cell_type": "code",
   "execution_count": 20,
   "id": "db5cd335-f8f2-479b-9010-a12dcf77cc03",
   "metadata": {},
   "outputs": [],
   "source": [
    "class KNN_classifier():\n",
    "    def __init__(self, distance_metric):\n",
    "        self.distance_metric = distance_metric\n",
    "\n",
    "    # Getting the distance metric\n",
    "    def get_distance_metric(self, training_data_point, test_data_point):\n",
    "        if(self.distance_metric == \"euclidean\"):\n",
    "            dist = 0\n",
    "            for i in range(len(training_data_point)-1): #should not include target column\n",
    "                dist = dist + (training_data_point[i] - test_data_point[i])**2\n",
    "            euclidean_dist = np.sqrt(dist)\n",
    "            return euclidean_dist\n",
    "        elif(self.distance_metric == \"manhattan\"):\n",
    "            dist = 0\n",
    "            for i in range(len(training_data_point) -1):\n",
    "                dist = dist + abs(training_data_point[i] - test_data_point[i])\n",
    "            manhattan_dist = dist\n",
    "\n",
    "            return manhattan_dist\n",
    "        \n",
    "    def nearest_neighbours(self, x_train, test_data, k):  #Distance between the red dot and the other dots\n",
    "        dist_list = []\n",
    "\n",
    "        for training_data in x_train:\n",
    "            distance = self.get_distance_metric(training_data, test_data)\n",
    "            distance_list.append((training_data, distance))\n",
    "\n",
    "        dist_list.sort(key = lambda x:x[1])  #sort based on the index 1\n",
    "        neighbors_list = []\n",
    "\n",
    "        for j in range(k):  #k nearest neighbours\n",
    "            neighbors_list.append(distance_list[j][0])\n",
    "\n",
    "        return neighbors_list\n",
    "            \n",
    "    # predict the class of the new data point:\n",
    "    def predict(self,x_train, test_data, k):\n",
    "          neighbors = self.nearest_neighbors(x_train, test_data, k)\n",
    "          for data in neighbors:\n",
    "              label = []\n",
    "              label.append(data[-1])\n",
    "              predicted_class = statistics.mode(label)\n",
    "              return predicted_class"
   ]
  },
  {
   "cell_type": "code",
   "execution_count": null,
   "id": "d03e02d7-2c0f-464a-ba81-6c2056c3a496",
   "metadata": {},
   "outputs": [],
   "source": [
    "classifier = KNN_classifier()"
   ]
  }
 ],
 "metadata": {
  "kernelspec": {
   "display_name": "Python 3 (ipykernel)",
   "language": "python",
   "name": "python3"
  },
  "language_info": {
   "codemirror_mode": {
    "name": "ipython",
    "version": 3
   },
   "file_extension": ".py",
   "mimetype": "text/x-python",
   "name": "python",
   "nbconvert_exporter": "python",
   "pygments_lexer": "ipython3",
   "version": "3.12.10"
  }
 },
 "nbformat": 4,
 "nbformat_minor": 5
}
